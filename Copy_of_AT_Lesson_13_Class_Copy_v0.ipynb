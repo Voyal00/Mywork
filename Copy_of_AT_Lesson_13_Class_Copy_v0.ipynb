{
  "nbformat": 4,
  "nbformat_minor": 0,
  "metadata": {
    "colab": {
      "name": "Copy of AT - Lesson 13 - Class Copy - v0",
      "provenance": [],
      "collapsed_sections": [],
      "include_colab_link": true
    },
    "kernelspec": {
      "name": "python3",
      "display_name": "Python 3"
    }
  },
  "cells": [
    {
      "cell_type": "markdown",
      "metadata": {
        "id": "view-in-github",
        "colab_type": "text"
      },
      "source": [
        "<a href=\"https://colab.research.google.com/github/Voyal00/Mywork/blob/main/Copy_of_AT_Lesson_13_Class_Copy_v0.ipynb\" target=\"_parent\"><img src=\"https://colab.research.google.com/assets/colab-badge.svg\" alt=\"Open In Colab\"/></a>"
      ]
    },
    {
      "cell_type": "markdown",
      "metadata": {
        "id": "KZngaph1E1HU"
      },
      "source": [
        "# Lesson 13: Pandas Series"
      ]
    },
    {
      "cell_type": "markdown",
      "metadata": {
        "id": "9xQQ4vHgQBSN"
      },
      "source": [
        "### Teacher-Student Activities\n",
        "\n",
        "Before we go ahead with more concepts on Machine Learning and Artificial Intelligence, let's first learn a bit of Data Analysis, so that you can get a better understanding of data. Every dataset tells you a story if you look at it through the right lenses.\n",
        "\n",
        "To give you a perspective, imagine that you have data on the number of sales happening in every month of every single shop in your city. You would notice that during the festivals, the sales volume of sweets rises by a tremendous magnitude. Similarly, the sales volume of clothes, jewellery and electronic products also rose significantly in this period.\n",
        "\n",
        "If you have the tourism data, then you would see that a lot of people in India go on a vacation in the months of May and June, which makes sense because schools are closed in these two months due to summer vacation.\n",
        "\n",
        "Through data, you can observe a trend and based on that trend you can draw meaningful insights, helping you in making decisions in your daily life, in business organisations, in medical and engineering applications etc. \n",
        "\n",
        "When it comes to Data Analysis in Python, we use a module called Pandas which is specifically designed to manipulate, manage and analyse a huge amount of data by creating Pandas Series and Pandas DataFrames. \n",
        "\n",
        "In this lesson, we will learn about the Pandas Series."
      ]
    },
    {
      "cell_type": "markdown",
      "metadata": {
        "id": "crUqZtm_BRK6"
      },
      "source": [
        "---"
      ]
    },
    {
      "cell_type": "markdown",
      "metadata": {
        "id": "2jtEZd96SmI9"
      },
      "source": [
        "#### Pandas Series \n",
        "\n",
        "A Pandas series is a one-dimensional array which can hold various data types. It is similar to a Python list and a NumPy array.\n",
        "\n",
        "Without going too much into the theory, let's get started with the Pandas series right away. At the end of the class, we will learn when to use a Python list, a NumPy array and a Pandas series."
      ]
    },
    {
      "cell_type": "markdown",
      "metadata": {
        "id": "PiRvtjf1BXlV"
      },
      "source": [
        "---"
      ]
    },
    {
      "cell_type": "markdown",
      "metadata": {
        "id": "6VYKPpnVavVx"
      },
      "source": [
        "#### Activity 1: Python List To Pandas Series Conversion\n",
        "\n",
        "Let's understand the Pandas series through an example. Suppose there are `30` students in your class and their weights vary in the range of `45` to `60` kg (both inclusive).\n",
        "\n",
        "We can create a Pandas series containing the weights of the students by first creating a Python list and then converting it to a Pandas series. To create a Pandas series, you have to first import the `pandas` module using the `import` keyword. \n",
        "\n",
        "```\n",
        "import pandas as pd\n",
        "```\n",
        "\n",
        "Here, `pd` is an alias (or nickname) for `pandas`\n",
        "\n",
        "Then you can call the `Series()` function to convert a Python list or a NumPy array into a Pandas series.\n",
        "\n",
        "```\n",
        "weights = pd.Series([random.randint(45, 60) for i in range(30)])\n",
        "```\n",
        "\n",
        "**Note:** Unlike other functions, the `Series()` function begins with the uppercase letter `S`."
      ]
    },
    {
      "cell_type": "code",
      "metadata": {
        "id": "EMr9AICpP2wY",
        "colab": {
          "base_uri": "https://localhost:8080/"
        },
        "outputId": "96206f96-2af8-4fc0-c592-ee90125993f3"
      },
      "source": [
        "# Teacher Action: Create a Pandas series containing 30 random integers between 45 and 60.\n",
        "import random\n",
        "import pandas as pd\n",
        "weights=pd.Series([random.randint(45,60)for i in range(30)])\n",
        "weights"
      ],
      "execution_count": null,
      "outputs": [
        {
          "output_type": "execute_result",
          "data": {
            "text/plain": [
              "0     47\n",
              "1     49\n",
              "2     53\n",
              "3     59\n",
              "4     58\n",
              "5     60\n",
              "6     48\n",
              "7     48\n",
              "8     54\n",
              "9     60\n",
              "10    51\n",
              "11    52\n",
              "12    48\n",
              "13    52\n",
              "14    52\n",
              "15    55\n",
              "16    55\n",
              "17    47\n",
              "18    53\n",
              "19    48\n",
              "20    51\n",
              "21    49\n",
              "22    56\n",
              "23    46\n",
              "24    57\n",
              "25    48\n",
              "26    51\n",
              "27    58\n",
              "28    58\n",
              "29    53\n",
              "dtype: int64"
            ]
          },
          "metadata": {
            "tags": []
          },
          "execution_count": 1
        }
      ]
    },
    {
      "cell_type": "markdown",
      "metadata": {
        "id": "UrDULktVb2Ji"
      },
      "source": [
        "The first column in the output represents the indices of all the items in the `weights` Pandas series. The second column contains the weights of the students. The data-type of each item is an `int`.\n",
        "\n",
        "**Note:** Ignore the `64` in the `int64` for the time being. \n",
        "\n",
        "Using the `Series()` function, you can convert any one-dimensional Python list into a Pandas series. Now, let's verify whether `weights` is a Pandas series or not."
      ]
    },
    {
      "cell_type": "code",
      "metadata": {
        "id": "TDnNWIjxz99A",
        "colab": {
          "base_uri": "https://localhost:8080/"
        },
        "outputId": "1241aa04-5234-4654-bc6c-27490e5c1880"
      },
      "source": [
        "# Student Action: Verify the type of value stored in the 'weights' variable using the 'type()' function.\n",
        "type(weights)"
      ],
      "execution_count": null,
      "outputs": [
        {
          "output_type": "execute_result",
          "data": {
            "text/plain": [
              "pandas.core.series.Series"
            ]
          },
          "metadata": {
            "tags": []
          },
          "execution_count": 2
        }
      ]
    },
    {
      "cell_type": "markdown",
      "metadata": {
        "id": "9sOodrKz0K4O"
      },
      "source": [
        "The `type()` function returns `pandas.core.series.Series` as an output which confirms that `weights` is indeed a Pandas series. \n",
        "\n",
        "A Pandas series can also contain the items of multiple data-types. Recall that in the trial class we created 4 different variables to store the attributes of a planet.  \n",
        "\n",
        "||Mercury|\n",
        "|-|-|\n",
        "|Diameter (km)|4879|\n",
        "|Gravity ($m/s^2$)|3.7|\n",
        "|Ring|No|\n",
        "\n",
        "\n",
        "Let's store the name of a planet, its diameter, gravity and whether it has a ring or not in a Python list and then convert it into a pandas series.\n"
      ]
    },
    {
      "cell_type": "code",
      "metadata": {
        "id": "rsq1SJvObuMK",
        "colab": {
          "base_uri": "https://localhost:8080/"
        },
        "outputId": "bfe0778f-a66b-4e7d-98fb-193769fe9afb"
      },
      "source": [
        "# Student Action: Create a Python list which contains planet name, diameter, gravity and False if the planet has a ring.\n",
        "# Convert the list into a Pandas series. Also, verify whether the list successfully is converted to a Pandas series or not.\n",
        "planet=pd.Series([\"Mercury\",4879,3.7,False])\n",
        "print(planet)\n",
        "type(planet)"
      ],
      "execution_count": null,
      "outputs": [
        {
          "output_type": "stream",
          "text": [
            "0    Mercury\n",
            "1       4879\n",
            "2        3.7\n",
            "3      False\n",
            "dtype: object\n"
          ],
          "name": "stdout"
        },
        {
          "output_type": "execute_result",
          "data": {
            "text/plain": [
              "pandas.core.series.Series"
            ]
          },
          "metadata": {
            "tags": []
          },
          "execution_count": 4
        }
      ]
    },
    {
      "cell_type": "markdown",
      "metadata": {
        "id": "qYnWSTd-oEBY"
      },
      "source": [
        "Here the data-type is `object`. Pandas cannot return the data-type of every individual item. Hence, it has returned `object` data-type to represent one common data-type for all the items.\n",
        "\n",
        "You can also use the `size` keyword to find the number of items in a Pandas series."
      ]
    },
    {
      "cell_type": "code",
      "metadata": {
        "id": "PUa5uRc2Cysy",
        "colab": {
          "base_uri": "https://localhost:8080/"
        },
        "outputId": "a2c38a02-5258-436e-f9cc-2195fe5e33e3"
      },
      "source": [
        "# Student Action: Find the number of items in the 'weights' Pandas series using the 'size' keyword.\n",
        "weights.size"
      ],
      "execution_count": null,
      "outputs": [
        {
          "output_type": "execute_result",
          "data": {
            "text/plain": [
              "30"
            ]
          },
          "metadata": {
            "tags": []
          },
          "execution_count": 6
        }
      ]
    },
    {
      "cell_type": "markdown",
      "metadata": {
        "id": "QtQA2xU0C94F"
      },
      "source": [
        "So, there are `30` items in the `weights` Pandas series. \n",
        "\n",
        "You can also use the `shape` keyword to find the number of rows and columns in a Pandas series."
      ]
    },
    {
      "cell_type": "code",
      "metadata": {
        "id": "-y9cRsdBDH-G",
        "colab": {
          "base_uri": "https://localhost:8080/"
        },
        "outputId": "6ebf960b-c21a-4076-f9bd-63ba3d3f3366"
      },
      "source": [
        "# Student Action: Find the number of rows and columns in the 'weights' Pandas series using the 'shape' keyword.\n",
        "weights.shape"
      ],
      "execution_count": null,
      "outputs": [
        {
          "output_type": "execute_result",
          "data": {
            "text/plain": [
              "(30,)"
            ]
          },
          "metadata": {
            "tags": []
          },
          "execution_count": 7
        }
      ]
    },
    {
      "cell_type": "markdown",
      "metadata": {
        "id": "UiqBN8vsDOyh"
      },
      "source": [
        "So, there are `30` rows and `1` column in the `weights` Pandas series."
      ]
    },
    {
      "cell_type": "markdown",
      "metadata": {
        "id": "KGtlRcPDBfPd"
      },
      "source": [
        "---"
      ]
    },
    {
      "cell_type": "markdown",
      "metadata": {
        "id": "SLrh_iDB1M74"
      },
      "source": [
        "#### Activity 2: The `mean(), min(), max()` Functions \n",
        "\n",
        "The `mean()` function does not take any input and returns the average value of all the items as an output.\n",
        "\n",
        "To apply this function, you need to write the Pandas series; whose mean value you need to compute; followed by the dot (`.`) operator.\n"
      ]
    },
    {
      "cell_type": "code",
      "metadata": {
        "id": "Ce9nbvapc3HX",
        "colab": {
          "base_uri": "https://localhost:8080/"
        },
        "outputId": "8a84cd0a-1d49-4540-84d6-a5d6ed35415c"
      },
      "source": [
        "# Student Action: Calculate the average value of all the numbers in a Pandas series.\n",
        "weights.mean()"
      ],
      "execution_count": null,
      "outputs": [
        {
          "output_type": "execute_result",
          "data": {
            "text/plain": [
              "52.53333333333333"
            ]
          },
          "metadata": {
            "tags": []
          },
          "execution_count": 8
        }
      ]
    },
    {
      "cell_type": "markdown",
      "metadata": {
        "id": "Xb62jTLtup7l"
      },
      "source": [
        "Similarly, you can also find the minimum and maximum values in a Pandas series using the `min()` and `max()` functions."
      ]
    },
    {
      "cell_type": "code",
      "metadata": {
        "id": "MoGFFlFGzm5_",
        "colab": {
          "base_uri": "https://localhost:8080/"
        },
        "outputId": "c7cfe636-6928-4769-f142-d069c8fdb253"
      },
      "source": [
        "# Student Action: Using the 'min()' and 'max()' functions, print the minimum and maximum values in the 'weights' Pandas series.\n",
        "print(weights.max())\n",
        "weights.min()"
      ],
      "execution_count": null,
      "outputs": [
        {
          "output_type": "stream",
          "text": [
            "60\n"
          ],
          "name": "stdout"
        },
        {
          "output_type": "execute_result",
          "data": {
            "text/plain": [
              "46"
            ]
          },
          "metadata": {
            "tags": []
          },
          "execution_count": 9
        }
      ]
    },
    {
      "cell_type": "markdown",
      "metadata": {
        "id": "1Aa8dT_nBg0U"
      },
      "source": [
        "---"
      ]
    },
    {
      "cell_type": "markdown",
      "metadata": {
        "id": "ppYm2Q9V3s2H"
      },
      "source": [
        "#### Activity 3: The `head()` And `tail()` Functions\n",
        "\n",
        "Sometimes instead of looking at the full dataset, we just want to look at the first few rows or the last few rows of the dataset. In such cases, we can use the `head()` and `tail()` function.\n",
        "\n",
        "The `head()` function shows the first five and the `tail()` function shows the last five items in a Pandas series."
      ]
    },
    {
      "cell_type": "code",
      "metadata": {
        "id": "C2mEBmQv1wmr",
        "colab": {
          "base_uri": "https://localhost:8080/"
        },
        "outputId": "1830b7d9-4798-4d8c-f373-9d042b4cd3bc"
      },
      "source": [
        "# Student Action: Print only the first 5 items in a Pandas series using the 'head()' function.\n",
        "weights.head()"
      ],
      "execution_count": null,
      "outputs": [
        {
          "output_type": "execute_result",
          "data": {
            "text/plain": [
              "0    47\n",
              "1    49\n",
              "2    53\n",
              "3    59\n",
              "4    58\n",
              "dtype: int64"
            ]
          },
          "metadata": {
            "tags": []
          },
          "execution_count": 12
        }
      ]
    },
    {
      "cell_type": "markdown",
      "metadata": {
        "id": "8vHjxvBe4mDU"
      },
      "source": [
        "The numbers in the first column in the output are the indices of each item in the Pandas series. Since we print the first five items, the indices range from `0` to `4`."
      ]
    },
    {
      "cell_type": "code",
      "metadata": {
        "id": "4BZ0vDmy4kWQ",
        "colab": {
          "base_uri": "https://localhost:8080/"
        },
        "outputId": "346e1697-7d82-479d-9584-87848706be1c"
      },
      "source": [
        "# Student Action: Using the 'tail()' function, print the last 5 items in the Pandas series.\n",
        "weights.tail()"
      ],
      "execution_count": null,
      "outputs": [
        {
          "output_type": "execute_result",
          "data": {
            "text/plain": [
              "25    48\n",
              "26    51\n",
              "27    58\n",
              "28    58\n",
              "29    53\n",
              "dtype: int64"
            ]
          },
          "metadata": {
            "tags": []
          },
          "execution_count": 13
        }
      ]
    },
    {
      "cell_type": "markdown",
      "metadata": {
        "id": "-Z8RAfIr3wiO"
      },
      "source": [
        "Since we printed the last five items of the series, the indices range from `25` to `29`.\n",
        "\n",
        "Within the `head()` and `tail()` functions, you can specify the `n` number of first items and the `n` number of last items you wish to see in a Pandas series."
      ]
    },
    {
      "cell_type": "code",
      "metadata": {
        "id": "QX5A5rd23v01",
        "colab": {
          "base_uri": "https://localhost:8080/"
        },
        "outputId": "70644121-c961-4961-c69b-121b7b7c5772"
      },
      "source": [
        "# Student Action: Using the 'head()' function, print the first 8 items of the weights series.\n",
        "weights.head(8)"
      ],
      "execution_count": null,
      "outputs": [
        {
          "output_type": "execute_result",
          "data": {
            "text/plain": [
              "0    47\n",
              "1    49\n",
              "2    53\n",
              "3    59\n",
              "4    58\n",
              "5    60\n",
              "6    48\n",
              "7    48\n",
              "dtype: int64"
            ]
          },
          "metadata": {
            "tags": []
          },
          "execution_count": 14
        }
      ]
    },
    {
      "cell_type": "code",
      "metadata": {
        "id": "jG3-LcqW4Xps",
        "colab": {
          "base_uri": "https://localhost:8080/"
        },
        "outputId": "ac9c0634-03b7-4f3c-fe0f-a33ede846e13"
      },
      "source": [
        "# Student Action: Using the 'tail()' function, print the last 12 items of the weights series.\n",
        "weights.tail(12)"
      ],
      "execution_count": null,
      "outputs": [
        {
          "output_type": "execute_result",
          "data": {
            "text/plain": [
              "18    53\n",
              "19    48\n",
              "20    51\n",
              "21    49\n",
              "22    56\n",
              "23    46\n",
              "24    57\n",
              "25    48\n",
              "26    51\n",
              "27    58\n",
              "28    58\n",
              "29    53\n",
              "dtype: int64"
            ]
          },
          "metadata": {
            "tags": []
          },
          "execution_count": 15
        }
      ]
    },
    {
      "cell_type": "markdown",
      "metadata": {
        "id": "Rme5LFfDBjBl"
      },
      "source": [
        "---"
      ]
    },
    {
      "cell_type": "markdown",
      "metadata": {
        "id": "R-YHECv8272g"
      },
      "source": [
        "#### Activity 4: Indexing A Pandas Series^\n",
        "\n",
        "Indexing a Pandas series is the same as indexing a Python list or a NumPy array. \n",
        "\n",
        "Let's say we want to get the weights of the students whose indices range from `13` to `21`, then you can write the variable storing the Pandas series followed by the square brackets `[]`. Inside the square brackets, you can mention the range of items you wish to retrieve from a series.\n",
        "\n",
        "**Syntax:** `pandas_series[start_index:end_index]`"
      ]
    },
    {
      "cell_type": "code",
      "metadata": {
        "id": "phhN5YRc3k3b",
        "colab": {
          "base_uri": "https://localhost:8080/"
        },
        "outputId": "343bfd65-fc59-4a45-c682-c982a1d10a80"
      },
      "source": [
        "# Student Action: Retrieve items from a Pandas series using the indexing method.\n",
        "weights[5:15]"
      ],
      "execution_count": null,
      "outputs": [
        {
          "output_type": "execute_result",
          "data": {
            "text/plain": [
              "5     60\n",
              "6     48\n",
              "7     48\n",
              "8     54\n",
              "9     60\n",
              "10    51\n",
              "11    52\n",
              "12    48\n",
              "13    52\n",
              "14    52\n",
              "dtype: int64"
            ]
          },
          "metadata": {
            "tags": []
          },
          "execution_count": 16
        }
      ]
    },
    {
      "cell_type": "code",
      "metadata": {
        "id": "OkuDG88ICFF8",
        "colab": {
          "base_uri": "https://localhost:8080/"
        },
        "outputId": "9ca088f9-f062-42d7-b288-d7177fcac7b1"
      },
      "source": [
        "# Student Action: Print the items ranging from the indices 17 to 27.\n",
        "weights[17:28]"
      ],
      "execution_count": null,
      "outputs": [
        {
          "output_type": "execute_result",
          "data": {
            "text/plain": [
              "17    47\n",
              "18    53\n",
              "19    48\n",
              "20    51\n",
              "21    49\n",
              "22    56\n",
              "23    46\n",
              "24    57\n",
              "25    48\n",
              "26    51\n",
              "27    58\n",
              "dtype: int64"
            ]
          },
          "metadata": {
            "tags": []
          },
          "execution_count": 17
        }
      ]
    },
    {
      "cell_type": "markdown",
      "metadata": {
        "id": "QdblhzmsBlTs"
      },
      "source": [
        "---"
      ]
    },
    {
      "cell_type": "markdown",
      "metadata": {
        "id": "kWIw-52mGY_O"
      },
      "source": [
        "#### Activity 5: The `mode()` Function\n",
        "\n",
        "Let's say you want to find out the weights of the most number of students in your class, then you can use the `mode()` function."
      ]
    },
    {
      "cell_type": "code",
      "metadata": {
        "id": "usuCFOT5DnI0",
        "colab": {
          "base_uri": "https://localhost:8080/"
        },
        "outputId": "6ef33a20-c88b-46bf-b09c-c8a2c574282e"
      },
      "source": [
        "# Student Action: Compute the modal value in the 'weight' series.\n",
        "weights.mode()"
      ],
      "execution_count": null,
      "outputs": [
        {
          "output_type": "execute_result",
          "data": {
            "text/plain": [
              "0    48\n",
              "dtype: int64"
            ]
          },
          "metadata": {
            "tags": []
          },
          "execution_count": 18
        }
      ]
    },
    {
      "cell_type": "markdown",
      "metadata": {
        "id": "a4lTVCuwIkC2"
      },
      "source": [
        "**Note**: A dataset can have more than one modal value. \n"
      ]
    },
    {
      "cell_type": "markdown",
      "metadata": {
        "id": "8wRQOfR7Bmqr"
      },
      "source": [
        "---"
      ]
    },
    {
      "cell_type": "markdown",
      "metadata": {
        "id": "FHZ9M6342j2M"
      },
      "source": [
        "#### Activity 6: The `sort_values()` Function^^\n",
        "\n",
        "We can use the `sort_values()` function to arrange the numbers in a Pandas series either in an ascending order or in descending order.\n",
        "\n",
        "To arrange the numbers in a Pandas series in the increasing order, use the `sort_values()` function with the `ascending=True` as an input."
      ]
    },
    {
      "cell_type": "code",
      "metadata": {
        "id": "Ahm8KCSm243J",
        "colab": {
          "base_uri": "https://localhost:8080/"
        },
        "outputId": "07d25b1e-e3f9-4112-acd1-92849e12b9ed"
      },
      "source": [
        "# Student Action: Arrange the weights in the increasing order using the 'sort_values()' function.\n",
        "weights.sort_values(ascending=True)"
      ],
      "execution_count": null,
      "outputs": [
        {
          "output_type": "execute_result",
          "data": {
            "text/plain": [
              "23    46\n",
              "0     47\n",
              "17    47\n",
              "25    48\n",
              "6     48\n",
              "7     48\n",
              "19    48\n",
              "12    48\n",
              "1     49\n",
              "21    49\n",
              "26    51\n",
              "20    51\n",
              "10    51\n",
              "14    52\n",
              "11    52\n",
              "13    52\n",
              "18    53\n",
              "2     53\n",
              "29    53\n",
              "8     54\n",
              "15    55\n",
              "16    55\n",
              "22    56\n",
              "24    57\n",
              "28    58\n",
              "4     58\n",
              "27    58\n",
              "3     59\n",
              "9     60\n",
              "5     60\n",
              "dtype: int64"
            ]
          },
          "metadata": {
            "tags": []
          },
          "execution_count": 19
        }
      ]
    },
    {
      "cell_type": "markdown",
      "metadata": {
        "id": "HvuYmLY01NRE"
      },
      "source": [
        "To arrange the numbers in a Pandas series in the decreasing order, use the `sort_values()` function with the `ascending=False` as an input."
      ]
    },
    {
      "cell_type": "code",
      "metadata": {
        "id": "58zrrGp03MPr",
        "colab": {
          "base_uri": "https://localhost:8080/"
        },
        "outputId": "f7265dbb-8437-4dca-8f7d-c00dc297d503"
      },
      "source": [
        "# Student Action: Using the 'sort_values()' function, arrange the weights in the decreasing order.\n",
        "weights.sort_values(ascending=False)"
      ],
      "execution_count": null,
      "outputs": [
        {
          "output_type": "execute_result",
          "data": {
            "text/plain": [
              "5     60\n",
              "9     60\n",
              "3     59\n",
              "27    58\n",
              "4     58\n",
              "28    58\n",
              "24    57\n",
              "22    56\n",
              "16    55\n",
              "15    55\n",
              "8     54\n",
              "29    53\n",
              "2     53\n",
              "18    53\n",
              "13    52\n",
              "11    52\n",
              "14    52\n",
              "10    51\n",
              "20    51\n",
              "26    51\n",
              "21    49\n",
              "1     49\n",
              "12    48\n",
              "19    48\n",
              "7     48\n",
              "6     48\n",
              "25    48\n",
              "17    47\n",
              "0     47\n",
              "23    46\n",
              "dtype: int64"
            ]
          },
          "metadata": {
            "tags": []
          },
          "execution_count": 20
        }
      ]
    },
    {
      "cell_type": "markdown",
      "metadata": {
        "id": "f_gvj2iuBojX"
      },
      "source": [
        "---"
      ]
    },
    {
      "cell_type": "markdown",
      "metadata": {
        "id": "JzMxsDyM1xjF"
      },
      "source": [
        "#### Activity 7: The `median()` Function\n",
        "\n",
        "To find the median value in a Pandas series, we can simply use the `median()` function.\n"
      ]
    },
    {
      "cell_type": "code",
      "metadata": {
        "id": "7ow8yIRJIVkH",
        "colab": {
          "base_uri": "https://localhost:8080/"
        },
        "outputId": "94b10e29-c66f-4f4f-9eee-9c3b29779540"
      },
      "source": [
        "# Student Action: Using the 'median()' function, find the median weight in the weights series.\n",
        "weights.median()"
      ],
      "execution_count": null,
      "outputs": [
        {
          "output_type": "execute_result",
          "data": {
            "text/plain": [
              "52.0"
            ]
          },
          "metadata": {
            "tags": []
          },
          "execution_count": 21
        }
      ]
    },
    {
      "cell_type": "markdown",
      "metadata": {
        "id": "miV_5-BUBqgo"
      },
      "source": [
        "---"
      ]
    },
    {
      "cell_type": "markdown",
      "metadata": {
        "id": "OzwfreqNImoh"
      },
      "source": [
        "#### Activity 8: The `value_counts()` Function^^^\n",
        "\n",
        "To count the number of occurrences of an item in a Pandas series, you can use the `value_counts()` function."
      ]
    },
    {
      "cell_type": "code",
      "metadata": {
        "id": "oXpzD6kCIrFc",
        "colab": {
          "base_uri": "https://localhost:8080/"
        },
        "outputId": "4ce84fda-fdd6-408f-fbd7-7ce0726e1094"
      },
      "source": [
        "# Student Action: Count the number of times each item in the 'weights' Pandas series occurs.\n",
        "weights.value_counts()"
      ],
      "execution_count": null,
      "outputs": [
        {
          "output_type": "execute_result",
          "data": {
            "text/plain": [
              "48    5\n",
              "58    3\n",
              "53    3\n",
              "52    3\n",
              "51    3\n",
              "60    2\n",
              "55    2\n",
              "49    2\n",
              "47    2\n",
              "59    1\n",
              "57    1\n",
              "56    1\n",
              "54    1\n",
              "46    1\n",
              "dtype: int64"
            ]
          },
          "metadata": {
            "tags": []
          },
          "execution_count": 22
        }
      ]
    },
    {
      "cell_type": "markdown",
      "metadata": {
        "id": "sm6gnHKkJFTw"
      },
      "source": [
        "**Note:** The `value_counts()` function is not available for Python lists and NumPy arrays.\n",
        "\n",
        "There is more to the Pandas series. We will learn it in detail along with Pandas DataFrames from the next class onwards. This is just an introductory class to Pandas."
      ]
    },
    {
      "cell_type": "markdown",
      "metadata": {
        "id": "fxkchvyXiCdB"
      },
      "source": [
        "---"
      ]
    },
    {
      "cell_type": "markdown",
      "metadata": {
        "id": "5EwMI1JpiEDr"
      },
      "source": [
        "#### Python List vs NumPy Array vs Pandas Series\n",
        "\n",
        "You might now wonder when to use a Python list, a NumPy array and a Pandas series?\n",
        "\n",
        "There are no hard rules to decide when to use which one of these data-structures but as a guide you may consider the following:\n",
        "\n",
        "1. When you just want to store data, retrieve data and add more data, use a Python list.\n",
        "\n",
        "2. When you want to store a numerical data (one-dimensional or multidimensional) and want to perform a lot of mathematical operations, then use a NumPy array as it faster than a Python list and it is easy to create a multidimensional array using a NumPy array.\n",
        "\n",
        "3. When you want to import data from an external file such as `TXT, XLXS, CSV, XML` etc then use a Pandas series. In the next class, you will learn how to import data from an external file. Additionally, Pandas allow you to interpret data in different ways. It also allows you to do complicated data extraction, manipulation and data processing operations on a dataset. Throughout this course, we will use Pandas library to handle data."
      ]
    },
    {
      "cell_type": "markdown",
      "metadata": {
        "id": "g1bVOdOWJSav"
      },
      "source": [
        "---"
      ]
    }
  ]
}